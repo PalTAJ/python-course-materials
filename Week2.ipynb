{
 "cells": [
  {
   "cell_type": "code",
   "execution_count": 1,
   "id": "82917427",
   "metadata": {
    "ExecuteTime": {
     "end_time": "2021-11-11T19:14:14.005670Z",
     "start_time": "2021-11-11T19:14:14.000169Z"
    }
   },
   "outputs": [
    {
     "ename": "IndentationError",
     "evalue": "expected an indented block (<ipython-input-1-a1a8776eabcd>, line 12)",
     "output_type": "error",
     "traceback": [
      "\u001b[0;36m  File \u001b[0;32m\"<ipython-input-1-a1a8776eabcd>\"\u001b[0;36m, line \u001b[0;32m12\u001b[0m\n\u001b[0;31m    print(4)\u001b[0m\n\u001b[0m        ^\u001b[0m\n\u001b[0;31mIndentationError\u001b[0m\u001b[0;31m:\u001b[0m expected an indented block\n"
     ]
    }
   ],
   "source": [
    "# Functions, for loops\n",
    "\n",
    "print('welcome all to week 2')\n",
    "\n",
    "\n",
    "\n",
    "\n",
    "\n",
    "\n",
    "\n",
    "def myFunction():\n",
    "    print(4)\n",
    "    \n",
    "    "
   ]
  },
  {
   "cell_type": "markdown",
   "id": "c31995dd",
   "metadata": {},
   "source": [
    "#### First, we will talk about functions\n",
    "\n",
    "Functions are the first step to code reuse. They allow you to define a reusable block of code that can be used repeatedly in a program.\n",
    "\n",
    "Python provides several built-in functions such as print(), len() or type(), but you can also define your own functions to use within your programs."
   ]
  },
  {
   "cell_type": "code",
   "execution_count": 4,
   "id": "4b4bea94",
   "metadata": {
    "ExecuteTime": {
     "end_time": "2021-11-10T22:06:39.414306Z",
     "start_time": "2021-11-10T22:06:39.412276Z"
    }
   },
   "outputs": [],
   "source": [
    "#  basic function format is as follow: "
   ]
  },
  {
   "cell_type": "markdown",
   "id": "f75b165c",
   "metadata": {},
   "source": [
    "![Image of Yaktocat](https://www.learnbyexample.org/wp-content/uploads/python/Python-Function-Syntax.png)\n"
   ]
  },
  {
   "cell_type": "code",
   "execution_count": 10,
   "id": "100b137b",
   "metadata": {
    "ExecuteTime": {
     "end_time": "2021-11-11T19:25:35.973911Z",
     "start_time": "2021-11-11T19:25:35.966286Z"
    }
   },
   "outputs": [
    {
     "name": "stdout",
     "output_type": "stream",
     "text": [
      "cost in tl:  15\n",
      "cost in dollars:  1.5\n"
     ]
    }
   ],
   "source": [
    "# writing your first function:\n",
    "\n",
    "\n",
    "\n",
    "# def write_name1():\n",
    "    \n",
    "#     name = 'ahmet'\n",
    "#     print(name)\n",
    "    \n",
    "\n",
    "\n",
    "\n",
    "# def write_name2(name):  \n",
    "#     print(name)\n",
    "    \n",
    "# write_name2('taj')\n",
    "\n",
    "\n",
    "# def store(number_of_products):\n",
    "    \n",
    "    \n",
    "#     price = 5 # tl\n",
    "#     price_dollars = 0.5\n",
    "    \n",
    "    \n",
    "#     price_tl = price * number_of_products\n",
    "#     price_dls =  price_dollars * number_of_products\n",
    "    \n",
    "#     print('cost in tl: ', price_tl)\n",
    "#     print('cost in dollars: ', price_dls)\n",
    "\n",
    "    \n",
    "# user = store(3)\n",
    "\n",
    "\n",
    "\n",
    "# def exchange_currency(tl):\n",
    "    \n",
    "#     dollar_rate = 9.9\n",
    "# #     how much dollars deo i have ?\n",
    "#     money = tl / dollar_rate\n",
    "#     print('i have ',money, 'dollars')\n",
    "    \n",
    "# exchange_currency(99)\n",
    "\n"
   ]
  },
  {
   "cell_type": "code",
   "execution_count": 27,
   "id": "51b05e86",
   "metadata": {
    "ExecuteTime": {
     "end_time": "2021-11-10T22:19:16.721350Z",
     "start_time": "2021-11-10T22:19:16.718574Z"
    }
   },
   "outputs": [
    {
     "name": "stdout",
     "output_type": "stream",
     "text": [
      "ahmet\n"
     ]
    }
   ],
   "source": [
    "write_name1()   #-----------------> this is called Calling a Function, if you want your function to run you\n",
    "# have to call it"
   ]
  },
  {
   "cell_type": "code",
   "execution_count": 28,
   "id": "291f9acf",
   "metadata": {
    "ExecuteTime": {
     "end_time": "2021-11-10T22:19:53.735604Z",
     "start_time": "2021-11-10T22:19:53.729965Z"
    }
   },
   "outputs": [
    {
     "name": "stdout",
     "output_type": "stream",
     "text": [
      "totally not ahmet\n"
     ]
    }
   ],
   "source": [
    "write_name2('totally not ahmet') #-------> calling a function and providing a parameter"
   ]
  },
  {
   "cell_type": "code",
   "execution_count": 21,
   "id": "7da9b27b",
   "metadata": {
    "ExecuteTime": {
     "end_time": "2021-11-11T19:34:26.248564Z",
     "start_time": "2021-11-11T19:34:26.242562Z"
    }
   },
   "outputs": [],
   "source": [
    "# functions with return command\n",
    "\n",
    "\n",
    "\n",
    "# def return_name(name , last_name):\n",
    "    \n",
    "    \n",
    "#     full_name = name + ' ' + last_name\n",
    "# #     full_name = f'{name} {last_name}'\n",
    "    \n",
    "#     return full_name\n",
    "\n",
    "\n",
    "def tl_to_dollars(tl):\n",
    "    \n",
    "    rate = 9.9\n",
    "    money = tl/ rate\n",
    "    \n",
    "    return money\n",
    "\n",
    "def tl_to_euro(tl):\n",
    "    \n",
    "    rate = 12\n",
    "    money = tl/ rate\n",
    "    return money\n",
    "\n",
    "\n",
    "def tl_to_nis(tl):\n",
    "    \n",
    "    rate = 3\n",
    "    money = tl/ rate\n",
    "    return money\n",
    "\n",
    "\n",
    "\n",
    "# tl = 99\n",
    "\n",
    "# p1 = tl_to_dollars(tl)\n",
    "# p2 = tl_to_euro(tl)\n",
    "# p3 = tl_to_nis(tl)\n",
    "\n",
    "# print('in dollars: ',p1)\n",
    "# print('in euro: ',p2)\n",
    "# print('in shekel: ',p3)\n",
    "# full_name = return_name('ahmet' , 'saleh')\n",
    "# print(full_name)\n"
   ]
  },
  {
   "cell_type": "code",
   "execution_count": 22,
   "id": "ff1fbe58",
   "metadata": {
    "ExecuteTime": {
     "end_time": "2021-11-10T22:16:48.821242Z",
     "start_time": "2021-11-10T22:16:48.818911Z"
    }
   },
   "outputs": [],
   "source": [
    "full_name = return_name('ahmet' , 'saleh')"
   ]
  },
  {
   "cell_type": "code",
   "execution_count": 23,
   "id": "a479acb8",
   "metadata": {
    "ExecuteTime": {
     "end_time": "2021-11-10T22:16:49.378911Z",
     "start_time": "2021-11-10T22:16:49.371007Z"
    }
   },
   "outputs": [
    {
     "name": "stdout",
     "output_type": "stream",
     "text": [
      "ahmet saleh\n"
     ]
    }
   ],
   "source": [
    "full_name = return_name('ahmet' , 'saleh')\n",
    "print(full_name)\n",
    "\n",
    "# also you can print it directly without assigning a variable\n",
    "# print(return_name('ahmet','saleh'))\n"
   ]
  },
  {
   "cell_type": "code",
   "execution_count": 22,
   "id": "cdb366a4",
   "metadata": {
    "ExecuteTime": {
     "end_time": "2021-11-11T19:34:46.776744Z",
     "start_time": "2021-11-11T19:34:46.768197Z"
    }
   },
   "outputs": [
    {
     "name": "stdout",
     "output_type": "stream",
     "text": [
      "result:  9\n"
     ]
    }
   ],
   "source": [
    "def addition(x,y):\n",
    "    \n",
    "    addition = x + y\n",
    "    \n",
    "    return addition\n",
    "\n",
    "\n",
    "print('result: ', addition(5,4))"
   ]
  },
  {
   "cell_type": "markdown",
   "id": "79820e66",
   "metadata": {},
   "source": [
    "#### Now we will talk about ** Lists ** \n",
    "\n",
    "A list is a sequence of values (similar to an array in other programming languages but more versatile)\n",
    "The values in a list are called items or sometimes elements.\n",
    "\n",
    "###### The important properties of Python lists are as follows:\n",
    "\n",
    " - Lists are ordered – Lists remember the order of items inserted.\n",
    " - Accessed by index – Items in a list can be accessed using an index.\n",
    " - Lists can contain any sort of object – It can be numbers, strings, tuples and even other lists.\n",
    " - Lists are changeable (mutable) – You can change a list in-place, add new items, and delete or update existing      items.\n",
    "\n",
    "\n",
    "**index** is a point that is pointing to an element/item in a list\n",
    "\n",
    "**starting index** of any list is **0 (zero)**\n",
    "\n",
    "![Image of Yaktocat](https://www.learnbyexample.org/wp-content/uploads/python/Python-List-Indexing.png)\n",
    "\n",
    "\n"
   ]
  },
  {
   "cell_type": "code",
   "execution_count": 31,
   "id": "0c2196c7",
   "metadata": {
    "ExecuteTime": {
     "end_time": "2021-11-11T19:41:44.080547Z",
     "start_time": "2021-11-11T19:41:44.076861Z"
    }
   },
   "outputs": [
    {
     "name": "stdout",
     "output_type": "stream",
     "text": [
      "blue\n"
     ]
    }
   ],
   "source": [
    "# A list of integers\n",
    "\n",
    "anything = [1, 2, 3]\n",
    "\n",
    "# print(anything)\n",
    "\n",
    "\n"
   ]
  },
  {
   "cell_type": "code",
   "execution_count": 37,
   "id": "a7f1809c",
   "metadata": {
    "ExecuteTime": {
     "end_time": "2021-11-11T19:44:25.116355Z",
     "start_time": "2021-11-11T19:44:25.113676Z"
    }
   },
   "outputs": [
    {
     "name": "stdout",
     "output_type": "stream",
     "text": [
      "['red', 'green', 'blue', 'black']\n"
     ]
    }
   ],
   "source": [
    "# A list of strings\n",
    "\n",
    "L = ['red', 'green', 'blue','black']\n",
    "\n",
    "print(L)"
   ]
  },
  {
   "cell_type": "code",
   "execution_count": 35,
   "id": "219b6ebd",
   "metadata": {
    "ExecuteTime": {
     "end_time": "2021-11-11T19:42:26.442409Z",
     "start_time": "2021-11-11T19:42:26.437924Z"
    }
   },
   "outputs": [
    {
     "name": "stdout",
     "output_type": "stream",
     "text": [
      "True\n"
     ]
    }
   ],
   "source": [
    "# A list of mixed datatypes\n",
    "\n",
    "L = [ 1, 'abc', 1.23, True]\n",
    "\n",
    "print(L)"
   ]
  },
  {
   "cell_type": "code",
   "execution_count": 32,
   "id": "330d7427",
   "metadata": {
    "ExecuteTime": {
     "end_time": "2021-11-10T22:31:49.801109Z",
     "start_time": "2021-11-10T22:31:49.792510Z"
    }
   },
   "outputs": [],
   "source": [
    "# An empty list\n",
    "\n",
    "L = []"
   ]
  },
  {
   "cell_type": "code",
   "execution_count": 42,
   "id": "38150bb2",
   "metadata": {
    "ExecuteTime": {
     "end_time": "2021-11-11T19:46:45.344493Z",
     "start_time": "2021-11-11T19:46:45.341085Z"
    }
   },
   "outputs": [
    {
     "name": "stdout",
     "output_type": "stream",
     "text": [
      "[5]\n"
     ]
    }
   ],
   "source": [
    "# Convert a string to a list\n",
    "# The list() Constructor\n",
    "\n",
    "\n",
    "# string = 'taj'\n",
    "\n",
    "# L = list(string)\n",
    "\n",
    "# print(L)\n",
    "\n",
    "\n",
    "string = 5\n",
    "\n",
    "mylist = list()\n",
    "\n",
    "mylist.append(string)\n",
    "\n",
    "print(mylist)\n",
    "\n"
   ]
  },
  {
   "cell_type": "code",
   "execution_count": 35,
   "id": "d61aa3bf",
   "metadata": {
    "ExecuteTime": {
     "end_time": "2021-11-10T22:35:25.691682Z",
     "start_time": "2021-11-10T22:35:25.688446Z"
    }
   },
   "outputs": [
    {
     "name": "stdout",
     "output_type": "stream",
     "text": [
      "red\n",
      "blue\n"
     ]
    }
   ],
   "source": [
    "# accessing a list \n",
    "\n",
    "L = ['red', 'green', 'blue', 'yellow', 'black']\n",
    "\n",
    "print(L[0])\n",
    "\n",
    "print(L[2])\n"
   ]
  },
  {
   "cell_type": "code",
   "execution_count": 37,
   "id": "aba4090d",
   "metadata": {
    "ExecuteTime": {
     "end_time": "2021-11-10T22:35:44.258932Z",
     "start_time": "2021-11-10T22:35:44.256775Z"
    }
   },
   "outputs": [],
   "source": [
    "# L = ['red', 'green', 'blue', 'yellow', 'black']\n",
    "\n",
    "# print(L[10])"
   ]
  },
  {
   "cell_type": "markdown",
   "id": "f699f70d",
   "metadata": {},
   "source": [
    "\n",
    "**reverse index**\n",
    "\n",
    "![Image of Yaktocat](https://www.learnbyexample.org/wp-content/uploads/python/Python-Negative-List-Indexing.png)\n",
    "\n"
   ]
  },
  {
   "cell_type": "code",
   "execution_count": 45,
   "id": "617909bc",
   "metadata": {
    "ExecuteTime": {
     "end_time": "2021-11-11T19:47:55.458688Z",
     "start_time": "2021-11-11T19:47:55.452628Z"
    }
   },
   "outputs": [
    {
     "name": "stdout",
     "output_type": "stream",
     "text": [
      "blue\n"
     ]
    }
   ],
   "source": [
    "L = ['red', 'green', 'blue', 'yellow', 'black']\n",
    "\n",
    "print(L[-3])\n",
    "\n",
    "# print(L[-2])\n"
   ]
  },
  {
   "cell_type": "code",
   "execution_count": 46,
   "id": "badd6d47",
   "metadata": {
    "ExecuteTime": {
     "end_time": "2021-11-11T19:48:06.710251Z",
     "start_time": "2021-11-11T19:48:06.705546Z"
    }
   },
   "outputs": [
    {
     "name": "stdout",
     "output_type": "stream",
     "text": [
      "['red', 'green', 'yellow', 'blue']\n"
     ]
    }
   ],
   "source": [
    "# Add items to a list\n",
    "\n",
    "\n",
    "L = ['red', 'green', 'yellow']\n",
    "\n",
    "L.append('blue')\n",
    "\n",
    "print(L)\n"
   ]
  },
  {
   "cell_type": "code",
   "execution_count": 49,
   "id": "8b559003",
   "metadata": {
    "ExecuteTime": {
     "end_time": "2021-11-11T19:49:31.159801Z",
     "start_time": "2021-11-11T19:49:31.156710Z"
    }
   },
   "outputs": [
    {
     "name": "stdout",
     "output_type": "stream",
     "text": [
      "['red', 'green', 'blue']\n"
     ]
    }
   ],
   "source": [
    "# removing items by index\n",
    "\n",
    "\n",
    "mylist = ['red', 'green', 'blue','black']\n",
    "\n",
    "x = mylist.pop(3)\n",
    "\n",
    "print(L)\n"
   ]
  },
  {
   "cell_type": "code",
   "execution_count": 52,
   "id": "2757a349",
   "metadata": {
    "ExecuteTime": {
     "end_time": "2021-11-11T19:50:58.871718Z",
     "start_time": "2021-11-11T19:50:58.863288Z"
    }
   },
   "outputs": [
    {
     "name": "stdout",
     "output_type": "stream",
     "text": [
      "['green', 'blue']\n"
     ]
    }
   ],
   "source": [
    "# removing items by value\n",
    "\n",
    "\n",
    "L = ['red', 'green', 'blue']\n",
    "\n",
    "L.remove('red')\n",
    "\n",
    "print(L)"
   ]
  },
  {
   "cell_type": "code",
   "execution_count": 56,
   "id": "74878d00",
   "metadata": {
    "ExecuteTime": {
     "end_time": "2021-11-11T19:53:44.483964Z",
     "start_time": "2021-11-11T19:53:44.479607Z"
    }
   },
   "outputs": [
    {
     "name": "stdout",
     "output_type": "stream",
     "text": [
      "2\n"
     ]
    }
   ],
   "source": [
    "# Find List Length\n",
    "\n",
    "L = ['red', 'green', 'blue']\n",
    "\n",
    "print( len(L) )\n",
    "\n"
   ]
  },
  {
   "cell_type": "code",
   "execution_count": 53,
   "id": "8ffb320a",
   "metadata": {
    "ExecuteTime": {
     "end_time": "2021-11-11T19:51:50.744089Z",
     "start_time": "2021-11-11T19:51:50.740829Z"
    }
   },
   "outputs": [
    {
     "name": "stdout",
     "output_type": "stream",
     "text": [
      "['red', 'red', 'red']\n"
     ]
    }
   ],
   "source": [
    "# List Replication\n",
    "\n",
    "L = ['red']\n",
    "\n",
    "L = L * 3\n",
    "\n",
    "print(L)"
   ]
  },
  {
   "cell_type": "code",
   "execution_count": 50,
   "id": "cfac5a40",
   "metadata": {
    "ExecuteTime": {
     "end_time": "2021-11-10T22:43:49.557779Z",
     "start_time": "2021-11-10T22:43:49.555412Z"
    }
   },
   "outputs": [],
   "source": [
    "# we can creat an empty list too in two ways \n",
    "\n",
    "list1 = list()\n",
    "\n",
    "list2 = []\n"
   ]
  },
  {
   "cell_type": "code",
   "execution_count": 60,
   "id": "c52473c9",
   "metadata": {
    "ExecuteTime": {
     "end_time": "2021-11-11T19:55:19.006776Z",
     "start_time": "2021-11-11T19:55:19.002636Z"
    }
   },
   "outputs": [
    {
     "name": "stdout",
     "output_type": "stream",
     "text": [
      "[10, 2, 3]\n"
     ]
    }
   ],
   "source": [
    "list1 = [1,2,3]\n",
    "# print(list1)\n",
    "\n",
    "\n",
    "\n",
    "list1[0] = 10\n",
    "\n",
    "print(list1)\n"
   ]
  },
  {
   "cell_type": "code",
   "execution_count": 62,
   "id": "241da097",
   "metadata": {
    "ExecuteTime": {
     "end_time": "2021-11-11T19:56:45.544492Z",
     "start_time": "2021-11-11T19:56:45.539981Z"
    }
   },
   "outputs": [
    {
     "name": "stdout",
     "output_type": "stream",
     "text": [
      "[1, 2, 3, 'red', 'green', 'blue']\n"
     ]
    }
   ],
   "source": [
    "# combine lists \n",
    "\n",
    "\n",
    "L1 = ['red', 'green', 'blue']\n",
    "L2 = [1,2,3]\n",
    "\n",
    "L = L2 + L1\n",
    "\n",
    "\n",
    "\n",
    "\n",
    "# print(L)"
   ]
  },
  {
   "cell_type": "code",
   "execution_count": 71,
   "id": "8130d58e",
   "metadata": {
    "ExecuteTime": {
     "end_time": "2021-11-11T20:03:23.249684Z",
     "start_time": "2021-11-11T20:03:23.245889Z"
    }
   },
   "outputs": [
    {
     "name": "stdout",
     "output_type": "stream",
     "text": [
      "Person Name:  ahmet yasin and his age is: 20\n"
     ]
    }
   ],
   "source": [
    "# nested lists \n",
    "\n",
    "\n",
    "basic_database = [['taj','saleh',25], ['ahmet', 'yasin',20]]\n",
    "\n",
    "# above we have a sample nested list\n",
    "# a list that has sublists\n",
    "\n",
    "# each sublist is an element of the main list\n",
    "\n",
    "# to access sublist 1\n",
    "# print(basic_database[0])\n",
    "# also we can do this\n",
    "\n",
    "\n",
    "\n",
    "name = basic_database[1][0] +' '+ basic_database[1][1]\n",
    "age = basic_database[1][2]\n",
    "\n",
    "print('Person Name: ',name, 'and his age is:', age)\n"
   ]
  },
  {
   "cell_type": "code",
   "execution_count": null,
   "id": "94327301",
   "metadata": {},
   "outputs": [],
   "source": []
  },
  {
   "cell_type": "code",
   "execution_count": null,
   "id": "e70b3d09",
   "metadata": {},
   "outputs": [],
   "source": []
  },
  {
   "cell_type": "code",
   "execution_count": null,
   "id": "23330acf",
   "metadata": {},
   "outputs": [],
   "source": []
  },
  {
   "cell_type": "code",
   "execution_count": null,
   "id": "d79b1292",
   "metadata": {},
   "outputs": [],
   "source": []
  },
  {
   "cell_type": "code",
   "execution_count": null,
   "id": "909cfc9d",
   "metadata": {},
   "outputs": [],
   "source": []
  },
  {
   "cell_type": "code",
   "execution_count": null,
   "id": "f56970ce",
   "metadata": {},
   "outputs": [],
   "source": []
  },
  {
   "cell_type": "code",
   "execution_count": null,
   "id": "7859f252",
   "metadata": {},
   "outputs": [],
   "source": []
  },
  {
   "cell_type": "code",
   "execution_count": null,
   "id": "e4306903",
   "metadata": {},
   "outputs": [],
   "source": []
  },
  {
   "cell_type": "code",
   "execution_count": null,
   "id": "ee6368ad",
   "metadata": {},
   "outputs": [],
   "source": []
  },
  {
   "cell_type": "code",
   "execution_count": null,
   "id": "da4efadf",
   "metadata": {},
   "outputs": [],
   "source": []
  },
  {
   "cell_type": "code",
   "execution_count": null,
   "id": "fbea3985",
   "metadata": {},
   "outputs": [],
   "source": []
  },
  {
   "cell_type": "code",
   "execution_count": null,
   "id": "fe8048ce",
   "metadata": {},
   "outputs": [],
   "source": []
  },
  {
   "cell_type": "code",
   "execution_count": null,
   "id": "6ca7d873",
   "metadata": {},
   "outputs": [],
   "source": []
  },
  {
   "cell_type": "code",
   "execution_count": null,
   "id": "de89ca15",
   "metadata": {},
   "outputs": [],
   "source": []
  },
  {
   "cell_type": "code",
   "execution_count": null,
   "id": "9b31646a",
   "metadata": {},
   "outputs": [],
   "source": []
  },
  {
   "cell_type": "code",
   "execution_count": null,
   "id": "eea2ba34",
   "metadata": {},
   "outputs": [],
   "source": []
  },
  {
   "cell_type": "code",
   "execution_count": null,
   "id": "5a3e7fef",
   "metadata": {},
   "outputs": [],
   "source": []
  },
  {
   "cell_type": "code",
   "execution_count": null,
   "id": "e49ae6ca",
   "metadata": {},
   "outputs": [],
   "source": []
  },
  {
   "cell_type": "code",
   "execution_count": null,
   "id": "9616ffb9",
   "metadata": {},
   "outputs": [],
   "source": []
  },
  {
   "cell_type": "code",
   "execution_count": null,
   "id": "59980e11",
   "metadata": {},
   "outputs": [],
   "source": []
  },
  {
   "cell_type": "code",
   "execution_count": null,
   "id": "0964d59c",
   "metadata": {},
   "outputs": [],
   "source": []
  }
 ],
 "metadata": {
  "hide_input": false,
  "kernelspec": {
   "display_name": "Python 3",
   "language": "python",
   "name": "python3"
  },
  "language_info": {
   "codemirror_mode": {
    "name": "ipython",
    "version": 3
   },
   "file_extension": ".py",
   "mimetype": "text/x-python",
   "name": "python",
   "nbconvert_exporter": "python",
   "pygments_lexer": "ipython3",
   "version": "3.6.9"
  },
  "toc": {
   "base_numbering": 1,
   "nav_menu": {},
   "number_sections": true,
   "sideBar": true,
   "skip_h1_title": false,
   "title_cell": "Table of Contents",
   "title_sidebar": "Contents",
   "toc_cell": false,
   "toc_position": {},
   "toc_section_display": true,
   "toc_window_display": false
  }
 },
 "nbformat": 4,
 "nbformat_minor": 5
}
