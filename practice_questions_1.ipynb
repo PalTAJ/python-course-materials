{
 "cells": [
  {
   "cell_type": "code",
   "execution_count": 1,
   "id": "138bda58",
   "metadata": {
    "ExecuteTime": {
     "end_time": "2021-11-22T21:47:54.399626Z",
     "start_time": "2021-11-22T21:47:54.397108Z"
    }
   },
   "outputs": [],
   "source": [
    "# practice questions\n",
    "\n",
    "# what you can use:\n",
    "\n",
    "#     integers\n",
    "#     float\n",
    "#     strings\n",
    "#     booleans\n",
    "#     lists\n",
    "#     for loops\n",
    "#     functions \n",
    "\n",
    "# you dont have to use all of them in all the questions, use hwat you need, although i dont mind but try to \n",
    "# make it simple\n",
    "\n"
   ]
  },
  {
   "cell_type": "code",
   "execution_count": 2,
   "id": "c423a8db",
   "metadata": {
    "ExecuteTime": {
     "end_time": "2021-11-22T21:49:22.383805Z",
     "start_time": "2021-11-22T21:49:22.381807Z"
    }
   },
   "outputs": [],
   "source": [
    "# Write a Python function to accept a filename from the user and print the extension of that. Go to the editor\n",
    "\n",
    "#Sample input :\n",
    "\n",
    "# file = 'abc.java'\n",
    "\n",
    "#Sample input :\n",
    "\n",
    "# 'java'\n",
    "\n"
   ]
  },
  {
   "cell_type": "code",
   "execution_count": 3,
   "id": "4e55a49e",
   "metadata": {
    "ExecuteTime": {
     "end_time": "2021-11-22T21:49:42.686002Z",
     "start_time": "2021-11-22T21:49:42.680807Z"
    }
   },
   "outputs": [],
   "source": [
    "# Write a Python function to print the first and last colors from the following list.\n",
    "\n",
    "color_list = [\"Red\",\"Green\",\"White\" ,\"Black\"]\n",
    "\n"
   ]
  },
  {
   "cell_type": "code",
   "execution_count": null,
   "id": "010c3779",
   "metadata": {},
   "outputs": [],
   "source": [
    "# # write a python function to check if an element is inside a list and print it, element is 12\n",
    "    \n",
    "numbers = [100, 54, 84, 12, 32, 32]\n"
   ]
  },
  {
   "cell_type": "code",
   "execution_count": 8,
   "id": "521486f0",
   "metadata": {
    "ExecuteTime": {
     "end_time": "2021-11-22T22:05:27.132645Z",
     "start_time": "2021-11-22T22:05:27.130227Z"
    }
   },
   "outputs": [],
   "source": [
    "# given a search keyword( music genre) search the data list below for matching songs\n",
    "\n",
    "data = [['rock','sabaton ghost division'], ['turkish', 'yildizlar'], ['arab','kefk ant'],\n",
    "        ['piano', 'venice rooftops']]\n",
    "\n",
    "# sample input:  piano\n",
    "\n",
    "# sample output: venice rooftops\n"
   ]
  },
  {
   "cell_type": "code",
   "execution_count": 9,
   "id": "bb9565cc",
   "metadata": {
    "ExecuteTime": {
     "end_time": "2021-11-22T22:05:27.455728Z",
     "start_time": "2021-11-22T22:05:27.450903Z"
    }
   },
   "outputs": [],
   "source": [
    "# Write a Python function to solve and print (x + y) * (x + y) . \n",
    "\n",
    "# Test Data : x = 4, y = 3\n",
    "\n",
    "# Expected Output : 49\n"
   ]
  },
  {
   "cell_type": "code",
   "execution_count": 10,
   "id": "80f81534",
   "metadata": {
    "ExecuteTime": {
     "end_time": "2021-11-22T22:05:27.722102Z",
     "start_time": "2021-11-22T22:05:27.718875Z"
    }
   },
   "outputs": [],
   "source": [
    "# write a python code to sort a list\n",
    "\n",
    "# numbers = [55,32,12,76,2]\n",
    "\n",
    "# expected output:[2,12,32,55,76]\n",
    "\n"
   ]
  },
  {
   "cell_type": "code",
   "execution_count": 11,
   "id": "8d9f60ba",
   "metadata": {
    "ExecuteTime": {
     "end_time": "2021-11-22T22:05:28.011159Z",
     "start_time": "2021-11-22T22:05:28.002801Z"
    }
   },
   "outputs": [],
   "source": [
    "# write a code to compare between two lists, check how many elements they have in common\n",
    "list1 = [1,9,8,6,4]\n",
    "list2 = [9,4,3,7,11]\n",
    "\n",
    "# expected output = [9,4]\n"
   ]
  },
  {
   "cell_type": "code",
   "execution_count": null,
   "id": "feb61dba",
   "metadata": {},
   "outputs": [],
   "source": []
  },
  {
   "cell_type": "code",
   "execution_count": null,
   "id": "eaa8d770",
   "metadata": {},
   "outputs": [],
   "source": []
  },
  {
   "cell_type": "code",
   "execution_count": null,
   "id": "40e3472a",
   "metadata": {},
   "outputs": [],
   "source": []
  },
  {
   "cell_type": "code",
   "execution_count": null,
   "id": "0c46fd49",
   "metadata": {},
   "outputs": [],
   "source": []
  }
 ],
 "metadata": {
  "hide_input": false,
  "kernelspec": {
   "display_name": "Python 3",
   "language": "python",
   "name": "python3"
  },
  "language_info": {
   "codemirror_mode": {
    "name": "ipython",
    "version": 3
   },
   "file_extension": ".py",
   "mimetype": "text/x-python",
   "name": "python",
   "nbconvert_exporter": "python",
   "pygments_lexer": "ipython3",
   "version": "3.6.9"
  },
  "toc": {
   "base_numbering": 1,
   "nav_menu": {},
   "number_sections": true,
   "sideBar": true,
   "skip_h1_title": false,
   "title_cell": "Table of Contents",
   "title_sidebar": "Contents",
   "toc_cell": false,
   "toc_position": {},
   "toc_section_display": true,
   "toc_window_display": false
  }
 },
 "nbformat": 4,
 "nbformat_minor": 5
}
