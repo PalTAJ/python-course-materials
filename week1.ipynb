{
 "cells": [
  {
   "cell_type": "code",
   "execution_count": 8,
   "id": "28bba3ca",
   "metadata": {
    "ExecuteTime": {
     "end_time": "2021-11-03T14:54:37.745709Z",
     "start_time": "2021-11-03T14:54:37.740798Z"
    }
   },
   "outputs": [
    {
     "name": "stdout",
     "output_type": "stream",
     "text": [
      "welcome to your first week in python programming course\n"
     ]
    }
   ],
   "source": [
    "print('welcome to your first week in python programming course')"
   ]
  },
  {
   "cell_type": "code",
   "execution_count": null,
   "id": "f7b78dca",
   "metadata": {
    "ExecuteTime": {
     "end_time": "2021-11-04T19:11:44.248719Z",
     "start_time": "2021-11-04T19:11:44.242528Z"
    }
   },
   "outputs": [],
   "source": []
  },
  {
   "cell_type": "markdown",
   "id": "9bac2b8e",
   "metadata": {},
   "source": [
    "## Data Types:"
   ]
  },
  {
   "cell_type": "code",
   "execution_count": 7,
   "id": "451e4450",
   "metadata": {
    "ExecuteTime": {
     "end_time": "2021-11-04T19:12:28.539041Z",
     "start_time": "2021-11-04T19:12:28.533252Z"
    }
   },
   "outputs": [],
   "source": [
    "# Data Types:\n",
    "\n",
    "# integers\n",
    "x = 5\n",
    "\n",
    "# floats\n",
    "y = 4.3\n",
    "z = 3.0\n",
    "\n",
    "# strings\n",
    "t1 = \"Any text\"\n",
    "t2 = 'Any text 2'\n",
    "\n",
    "# boolean\n",
    "b = True\n",
    "f = False\n",
    "\n",
    "\n"
   ]
  },
  {
   "cell_type": "code",
   "execution_count": 10,
   "id": "4b3b828f",
   "metadata": {
    "ExecuteTime": {
     "end_time": "2021-11-03T14:54:39.058722Z",
     "start_time": "2021-11-03T14:54:39.056231Z"
    }
   },
   "outputs": [],
   "source": [
    "# this is a comment !\n",
    "# when you put a ladder sign before text or code, it will not be compiled\n",
    "# this is really helpfull espically when you need to write explanations to your long code\n",
    "# if you dont, this will happen:"
   ]
  },
  {
   "cell_type": "markdown",
   "id": "d6a69bd3",
   "metadata": {},
   "source": [
    "![Image of Yaktocat](https://i.redd.it/hwqj7yx9vm211.jpg)\n"
   ]
  },
  {
   "cell_type": "code",
   "execution_count": 8,
   "id": "cbe0179a",
   "metadata": {
    "ExecuteTime": {
     "end_time": "2021-11-04T19:14:46.756958Z",
     "start_time": "2021-11-04T19:14:46.750716Z"
    }
   },
   "outputs": [
    {
     "name": "stdout",
     "output_type": "stream",
     "text": [
      "700\n",
      "300\n",
      "100000\n",
      "2.5\n",
      "25\n"
     ]
    }
   ],
   "source": [
    "# numerical data types operations:\n",
    "\n",
    "x = 500\n",
    "y = 200\n",
    "\n",
    "print(x + y)\n",
    "print(x - y)\n",
    "print(x * y)\n",
    "print(x / y)\n",
    "print(5 ** 2)"
   ]
  },
  {
   "cell_type": "code",
   "execution_count": 11,
   "id": "5c3af6e5",
   "metadata": {
    "ExecuteTime": {
     "end_time": "2021-11-04T19:16:59.139602Z",
     "start_time": "2021-11-04T19:16:59.128563Z"
    }
   },
   "outputs": [
    {
     "name": "stdout",
     "output_type": "stream",
     "text": [
      "2\n",
      "100\n"
     ]
    }
   ],
   "source": [
    "print(x // y)  # Floored quotient of x and y\n",
    "\n",
    "print(x % y)   # Remainder of x / y "
   ]
  },
  {
   "cell_type": "code",
   "execution_count": 15,
   "id": "d4f98d0f",
   "metadata": {
    "ExecuteTime": {
     "end_time": "2021-11-04T19:18:01.762859Z",
     "start_time": "2021-11-04T19:18:01.754155Z"
    }
   },
   "outputs": [
    {
     "name": "stdout",
     "output_type": "stream",
     "text": [
      "-300\n",
      "-700\n",
      "-300\n"
     ]
    }
   ],
   "source": [
    "print( - x + y)\n",
    "\n",
    "print( -x + -y)\n",
    "\n",
    "print( -x - -y)"
   ]
  },
  {
   "cell_type": "code",
   "execution_count": 17,
   "id": "f92bca49",
   "metadata": {
    "ExecuteTime": {
     "end_time": "2021-11-04T19:19:03.891038Z",
     "start_time": "2021-11-04T19:19:03.887347Z"
    }
   },
   "outputs": [
    {
     "name": "stdout",
     "output_type": "stream",
     "text": [
      "500\n"
     ]
    }
   ],
   "source": [
    "print(abs(-500)) # Absolute value or magnitude of x"
   ]
  },
  {
   "cell_type": "code",
   "execution_count": 18,
   "id": "758caf30",
   "metadata": {
    "ExecuteTime": {
     "end_time": "2021-11-04T19:20:49.272866Z",
     "start_time": "2021-11-04T19:20:49.265700Z"
    }
   },
   "outputs": [
    {
     "name": "stdout",
     "output_type": "stream",
     "text": [
      "True\n",
      "False\n",
      "True\n",
      "True\n"
     ]
    }
   ],
   "source": [
    "x = 5\n",
    "y = 4\n",
    "\n",
    "print(x > y)\n",
    "\n",
    "print(x < y)\n",
    "\n",
    "print(x == y) ## if x is equal to y , return True, else return False\n",
    "\n",
    "print(x != y) ## if x and y are not equal, return true, if they r equal you return false\n",
    "\n"
   ]
  },
  {
   "cell_type": "code",
   "execution_count": 29,
   "id": "8b5b3aee",
   "metadata": {
    "ExecuteTime": {
     "end_time": "2021-11-04T19:28:34.375494Z",
     "start_time": "2021-11-04T19:28:34.369038Z"
    }
   },
   "outputs": [],
   "source": [
    "# can we change numerical data types ?\n",
    "\n",
    "# x = 5.3  \n",
    "\n",
    "# print(x) # this is a float\n",
    "\n",
    "# print(int(x))  # now this is an integer\n",
    "\n",
    "x = 5.2\n",
    "# print(x)\n",
    "# print(float(x))  # now this is an float again\n",
    "\n",
    "\n",
    "# int()\n",
    "# str()\n",
    "# float()\n",
    "\n",
    "# print(int(x))\n"
   ]
  },
  {
   "cell_type": "code",
   "execution_count": 40,
   "id": "6ed444e9",
   "metadata": {
    "ExecuteTime": {
     "end_time": "2021-11-04T19:33:06.099439Z",
     "start_time": "2021-11-04T19:33:06.094001Z"
    }
   },
   "outputs": [],
   "source": [
    "# Strings \n",
    "\n",
    "name = 'taj'\n",
    "last = 'saleh'\n",
    "\n",
    "# how can i combine strings\n",
    "# 3 methods here, first one is only for priniting \n",
    "# second and third are good for printing and storing\n",
    "\n",
    "# print(name)\n",
    "# print(name,last)\n",
    "\n",
    "# full_name = name + last\n",
    "# print(full_name)\n",
    "\n",
    "# full_name2 = f'{name}{last}'\n",
    "# print(full_name2)\n",
    "\n",
    "\n",
    "random = f\"{name} {last}\"\n"
   ]
  },
  {
   "cell_type": "code",
   "execution_count": 44,
   "id": "aa47caef",
   "metadata": {
    "ExecuteTime": {
     "end_time": "2021-11-04T19:34:02.946278Z",
     "start_time": "2021-11-04T19:34:02.941278Z"
    }
   },
   "outputs": [
    {
     "name": "stdout",
     "output_type": "stream",
     "text": [
      "this is great \n",
      "this is great !!!\n"
     ]
    }
   ],
   "source": [
    "# operations on strings\n",
    "\n",
    "text = 'this is great '\n",
    "print(text)\n",
    "\n",
    "# text2  = text * 2\n",
    "# print(text2)\n",
    "\n",
    "text3  = text + '!!!'\n",
    "print(text3)\n"
   ]
  },
  {
   "cell_type": "code",
   "execution_count": 58,
   "id": "2ef6a0ae",
   "metadata": {
    "ExecuteTime": {
     "end_time": "2021-11-04T19:40:03.330446Z",
     "start_time": "2021-11-04T19:40:03.327099Z"
    }
   },
   "outputs": [],
   "source": [
    "# # text slicing \n",
    "\n",
    "text = 'i like apples'\n",
    "# # print(text)\n",
    "\n",
    "text2 = text[0:6]  ## it slices the first 5 characters, so if you want to slice 6 you should put 7!!\n",
    "print(text2)\n",
    "\n",
    "\n",
    "\n",
    "text3 = text[2:6]  \n",
    "print(text3)\n",
    "\n",
    "\n",
    "text4 = text[0:-2]  \n",
    "print(text4)\n",
    "\n",
    "\n",
    "text5 = text[2:-6]  \n",
    "print(text5)\n",
    "\n",
    "\n"
   ]
  },
  {
   "cell_type": "code",
   "execution_count": 63,
   "id": "c45f68b0",
   "metadata": {
    "ExecuteTime": {
     "end_time": "2021-11-04T19:42:20.052176Z",
     "start_time": "2021-11-04T19:42:20.045182Z"
    }
   },
   "outputs": [
    {
     "name": "stdout",
     "output_type": "stream",
     "text": [
      "i like apples\n"
     ]
    }
   ],
   "source": [
    "[start:stop:step]\n",
    "text = 'i like apples'\n",
    "\n",
    "text6 = text[0::1]\n",
    "print(text6)\n",
    "\n",
    "text7 = text[0::3]  \n",
    "print(text7)\n",
    "\n",
    "print(text[::1])\n",
    "\n",
    "\n"
   ]
  },
  {
   "cell_type": "code",
   "execution_count": 70,
   "id": "81daa459",
   "metadata": {
    "ExecuteTime": {
     "end_time": "2021-11-04T19:44:24.737168Z",
     "start_time": "2021-11-04T19:44:24.733132Z"
    }
   },
   "outputs": [
    {
     "name": "stdout",
     "output_type": "stream",
     "text": [
      "HELLO\n",
      "hello\n"
     ]
    }
   ],
   "source": [
    "# text = 'hello'\n",
    "# text = text.upper()\n",
    "\n",
    "# print(text)\n",
    "\n",
    "# print(text.lower())\n",
    "\n",
    "\n",
    "# 'HELLO' is different from  'hello'\n",
    "\n"
   ]
  },
  {
   "cell_type": "code",
   "execution_count": 66,
   "id": "9b7b8725",
   "metadata": {
    "ExecuteTime": {
     "end_time": "2021-11-03T15:29:30.464006Z",
     "start_time": "2021-11-03T15:29:30.457943Z"
    }
   },
   "outputs": [],
   "source": [
    "# Now the fun parts: \n",
    "    \n",
    "# Problem solving\n",
    "    "
   ]
  },
  {
   "cell_type": "code",
   "execution_count": 76,
   "id": "9195eda0",
   "metadata": {
    "ExecuteTime": {
     "end_time": "2021-11-04T19:51:54.671911Z",
     "start_time": "2021-11-04T19:51:54.666088Z"
    }
   },
   "outputs": [
    {
     "name": "stdout",
     "output_type": "stream",
     "text": [
      "tom will reach the town center in 2.8\n",
      "andy will reach the town center in 3.0\n"
     ]
    }
   ],
   "source": [
    "# problem one: \n",
    "\n",
    "# tom is living 100 km from the city center, while andy lives 150 km away from town center\n",
    "# knowing that tom and andy want to meet in town center, and tom speed is 35km/hr and andy speed is 50km/hr.\n",
    "# how long will it take andy and tom to reach town center ? \n",
    "\n",
    "# tom --> 100 km  and his speed is 35/hr\n",
    "# andy --> 150km and his speed is 50km/hr\n",
    "\n",
    "# 100/35  = time for tom\n",
    "# 150/50 = time for andy\n",
    "\n",
    "\n",
    "\n",
    "\n",
    "person1 = 100/35\n",
    "person2 = 150/50\n",
    "\n",
    "\n",
    "person1_modified = str(person1)[0:3]\n",
    "\n",
    "sentence1 = f'tom will reach the town center in {person1_modified}'\n",
    "sentence2 = f'andy will reach the town center in {person2}'\n",
    "\n",
    "print(sentence1)\n",
    "print(sentence2)"
   ]
  },
  {
   "cell_type": "code",
   "execution_count": 77,
   "id": "317bd0d6",
   "metadata": {
    "ExecuteTime": {
     "end_time": "2021-11-04T19:55:31.224389Z",
     "start_time": "2021-11-04T19:55:31.216457Z"
    }
   },
   "outputs": [
    {
     "name": "stdout",
     "output_type": "stream",
     "text": [
      "jat\n"
     ]
    }
   ],
   "source": [
    "# problem two: \n",
    "\n",
    "# write a code that takes a string through a variable and prints the reverse string\n",
    "# for example you may have an x variable. x = 'random', it should print modnar\n",
    "\n",
    "x = 'taj'\n",
    "x = x[::-1]\n",
    "print(x)"
   ]
  },
  {
   "cell_type": "code",
   "execution_count": 83,
   "id": "d3ca5061",
   "metadata": {
    "ExecuteTime": {
     "end_time": "2021-11-04T20:01:11.738589Z",
     "start_time": "2021-11-04T20:01:11.731934Z"
    }
   },
   "outputs": [
    {
     "name": "stdout",
     "output_type": "stream",
     "text": [
      "total cost is: 70\n",
      "total sold: 82\n",
      "profit = 12\n"
     ]
    }
   ],
   "source": [
    "# problem three: \n",
    "\n",
    "# write a program that calulcates the total income for a store \n",
    "\n",
    "# where this store has 2 products, fruits and vegtables\n",
    "\n",
    "# fruit cost 3 dollars and the owner sells it for 5\n",
    "# vegtables cost 4 dollars and the owner sells it for 7\n",
    "\n",
    "# if store has 10 fruits and 10 vegtables\n",
    "\n",
    "# and the store sold 8 fruits and 6 vegtables today\n",
    "\n",
    "# calculate his proft\\loss for today ?\n",
    "\n",
    "\n",
    "fruits_cost = 10 * 3\n",
    "veggies_cost = 10 * 4\n",
    "\n",
    "cost = fruits_cost + veggies_cost\n",
    "\n",
    "fruits_sold = 8 * 5\n",
    "veggies_sold =  6 * 7\n",
    "\n",
    "sold = fruits_sold + veggies_sold\n",
    "\n",
    "\n",
    "print(f'total cost is: {cost}')\n",
    "\n",
    "print(f'total sold: {sold}')\n",
    "\n",
    "print(f'profit = {sold - cost}')\n",
    "\n"
   ]
  },
  {
   "cell_type": "code",
   "execution_count": null,
   "id": "d9bdcca0",
   "metadata": {},
   "outputs": [],
   "source": []
  },
  {
   "cell_type": "code",
   "execution_count": null,
   "id": "57ce5379",
   "metadata": {},
   "outputs": [],
   "source": []
  },
  {
   "cell_type": "code",
   "execution_count": null,
   "id": "2d2dab7c",
   "metadata": {},
   "outputs": [],
   "source": []
  }
 ],
 "metadata": {
  "hide_input": false,
  "kernelspec": {
   "display_name": "Python 3",
   "language": "python",
   "name": "python3"
  },
  "language_info": {
   "codemirror_mode": {
    "name": "ipython",
    "version": 3
   },
   "file_extension": ".py",
   "mimetype": "text/x-python",
   "name": "python",
   "nbconvert_exporter": "python",
   "pygments_lexer": "ipython3",
   "version": "3.6.9"
  },
  "toc": {
   "base_numbering": 1,
   "nav_menu": {},
   "number_sections": true,
   "sideBar": true,
   "skip_h1_title": false,
   "title_cell": "Table of Contents",
   "title_sidebar": "Contents",
   "toc_cell": false,
   "toc_position": {},
   "toc_section_display": true,
   "toc_window_display": false
  }
 },
 "nbformat": 4,
 "nbformat_minor": 5
}
