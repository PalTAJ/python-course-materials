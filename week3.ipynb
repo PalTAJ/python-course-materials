{
 "cells": [
  {
   "cell_type": "code",
   "execution_count": 3,
   "id": "e9d340bc",
   "metadata": {
    "ExecuteTime": {
     "end_time": "2021-11-17T18:41:26.004957Z",
     "start_time": "2021-11-17T18:41:26.002922Z"
    }
   },
   "outputs": [],
   "source": [
    "# \"\"\"\n",
    "# Hello all to week 3\n",
    "# Today we will talk about python if statments and for loops\n",
    "# buckle up !\n",
    "\n",
    "# \"\"\""
   ]
  },
  {
   "cell_type": "code",
   "execution_count": null,
   "id": "d8c5116c",
   "metadata": {},
   "outputs": [],
   "source": []
  },
  {
   "cell_type": "markdown",
   "id": "9ef4a345",
   "metadata": {},
   "source": [
    "### What is if, else statements(conditioning) in Python?\n",
    "<b>Decision making is required when we want to execute a code only if a certain condition is satisfied.\n",
    "</b>\n",
    "### Python if Statement Flowchart\n",
    "\n",
    "\n",
    "![Image of Yaktocat](https://cdn.programiz.com/sites/tutorial2program/files/Python_if_statement.jpg)\n"
   ]
  },
  {
   "cell_type": "code",
   "execution_count": 5,
   "id": "f0121bc0",
   "metadata": {
    "ExecuteTime": {
     "end_time": "2021-11-18T18:23:14.340886Z",
     "start_time": "2021-11-18T18:23:14.335633Z"
    }
   },
   "outputs": [
    {
     "name": "stdout",
     "output_type": "stream",
     "text": [
      "True\n"
     ]
    }
   ],
   "source": [
    "# if test expression: --------> if statement\n",
    "#     statement(s)   ---------> body of if statement (notice the indentation)\n",
    "    \n",
    "\n",
    "    \n",
    "if 5 < 10:\n",
    "    print(True)\n",
    "    \n",
    "    \n",
    "    \n",
    "# Here, the program evaluates the test expression and will execute statement(s) only if the test expression\n",
    "# is True.\n",
    "\n",
    "# If the test expression is False, the statement(s) is not executed.\n",
    "\n",
    "# In Python, the body of the if statement is indicated by the indentation. The body starts with an indentation\n",
    "# and the first unindented line marks the end.\n",
    "\n",
    "# Python interprets non-zero values as True. None and 0 are interpreted as False."
   ]
  },
  {
   "cell_type": "code",
   "execution_count": 7,
   "id": "a743dab4",
   "metadata": {
    "ExecuteTime": {
     "end_time": "2021-11-18T18:24:19.991591Z",
     "start_time": "2021-11-18T18:24:19.985665Z"
    }
   },
   "outputs": [
    {
     "name": "stdout",
     "output_type": "stream",
     "text": [
      "3 is a positive number.\n"
     ]
    }
   ],
   "source": [
    "# If the number is positive, we print an appropriate message\n",
    "\n",
    "num = 3\n",
    "if num > 0:\n",
    "    print(num, \"is a positive number.\")\n"
   ]
  },
  {
   "cell_type": "code",
   "execution_count": 8,
   "id": "ff557388",
   "metadata": {
    "ExecuteTime": {
     "end_time": "2021-11-18T18:24:26.782471Z",
     "start_time": "2021-11-18T18:24:26.778101Z"
    }
   },
   "outputs": [],
   "source": [
    "num = -1\n",
    "if num > 0:\n",
    "    print(num, \"is a positive number.\")\n"
   ]
  },
  {
   "cell_type": "markdown",
   "id": "66def6a6",
   "metadata": {},
   "source": [
    "#### if , else statement workflow\n",
    "![Image of Yaktocat](https://cdn.programiz.com/sites/tutorial2program/files/Python_if_else_statement.jpg)\n"
   ]
  },
  {
   "cell_type": "code",
   "execution_count": 10,
   "id": "9a954230",
   "metadata": {
    "ExecuteTime": {
     "end_time": "2021-11-18T18:26:00.865999Z",
     "start_time": "2021-11-18T18:26:00.860552Z"
    }
   },
   "outputs": [
    {
     "name": "stdout",
     "output_type": "stream",
     "text": [
      "Negative number\n"
     ]
    }
   ],
   "source": [
    "num = -1\n",
    "\n",
    "if num >= 0:\n",
    "    print(\"Positive or Zero\")\n",
    "    \n",
    "else:\n",
    "    print(\"Negative number\")"
   ]
  },
  {
   "cell_type": "markdown",
   "id": "c37a65e2",
   "metadata": {},
   "source": [
    "\n",
    "\n",
    "#### if , elif , else statement workflow\n",
    "![Image of Yaktocat](https://cdn.programiz.com/sites/tutorial2program/files/Python_if_elif_else_statement.jpg)"
   ]
  },
  {
   "cell_type": "code",
   "execution_count": 17,
   "id": "e8863cbf",
   "metadata": {
    "ExecuteTime": {
     "end_time": "2021-11-18T18:30:52.562343Z",
     "start_time": "2021-11-18T18:30:52.556745Z"
    }
   },
   "outputs": [
    {
     "name": "stdout",
     "output_type": "stream",
     "text": [
      "Positive number\n"
     ]
    }
   ],
   "source": [
    "num = 10\n",
    "\n",
    "# Try these two variations as well:\n",
    "# num = 0\n",
    "# num = -4.5\n",
    "\n",
    "if num > 0:\n",
    "    print(\"Positive number\")\n",
    "    \n",
    "elif num == 0:\n",
    "    print(\"Zero\")\n",
    "\n",
    "else:\n",
    "    print(\"Negative number\")"
   ]
  },
  {
   "cell_type": "code",
   "execution_count": 21,
   "id": "b518de62",
   "metadata": {
    "ExecuteTime": {
     "end_time": "2021-11-18T18:35:38.408195Z",
     "start_time": "2021-11-18T18:35:38.402665Z"
    }
   },
   "outputs": [
    {
     "name": "stdout",
     "output_type": "stream",
     "text": [
      "True\n"
     ]
    }
   ],
   "source": [
    "# # Python Nested if statements\n",
    "\n",
    "# num = -2\n",
    "\n",
    "# if num >= 0:\n",
    "    \n",
    "#     if num == 0:\n",
    "#         print(\"Zero\")\n",
    "        \n",
    "#     else:\n",
    "#         print(\"Positive number\")\n",
    "        \n",
    "# else:\n",
    "#     print(\"Negative number\")\n",
    "    "
   ]
  },
  {
   "cell_type": "code",
   "execution_count": 34,
   "id": "213437ef",
   "metadata": {
    "ExecuteTime": {
     "end_time": "2021-11-18T18:43:10.741729Z",
     "start_time": "2021-11-18T18:43:10.729742Z"
    }
   },
   "outputs": [
    {
     "name": "stdout",
     "output_type": "stream",
     "text": [
      "0 r\n",
      "1 a\n",
      "2 n\n",
      "3 d\n",
      "4 o\n",
      "5 m\n"
     ]
    }
   ],
   "source": [
    "liste = ['nobody1','nobody2','nobody3']\n",
    "\n",
    "# for i in liste:\n",
    "#     print(i)\n",
    "    \n",
    "    \n",
    "    \n",
    "# for j in range(0, 3, 1):   #(start, stop , step)\n",
    "#     print(liste[j])\n",
    "\n",
    "    \n",
    "    \n",
    "# for string in 'random':\n",
    "#     print(string)\n",
    "r = 'random'\n",
    "for index in range(0, len(r), 1):\n",
    "    print(index , r[index] )\n",
    "    "
   ]
  },
  {
   "cell_type": "code",
   "execution_count": null,
   "id": "09232eb2",
   "metadata": {},
   "outputs": [],
   "source": []
  },
  {
   "cell_type": "code",
   "execution_count": 35,
   "id": "e2deb457",
   "metadata": {
    "ExecuteTime": {
     "end_time": "2021-11-18T18:44:00.684258Z",
     "start_time": "2021-11-18T18:44:00.674065Z"
    }
   },
   "outputs": [
    {
     "name": "stdout",
     "output_type": "stream",
     "text": [
      "nobody1\n",
      "nobody2\n",
      "nobody3\n"
     ]
    }
   ],
   "source": [
    "# for loops  two ways;\n",
    "\n",
    "# method 1 with lists\n",
    "\n",
    "names = ['nobody1','nobody2','nobody3']\n",
    "\n",
    "for index in range(0, len(names),1 ):         ## Start, Stop, Step (3s)\n",
    "    \n",
    "    print(names[index])\n",
    "#     print('index in the list: ',index, ' value:',names[index])\n",
    "    "
   ]
  },
  {
   "cell_type": "code",
   "execution_count": 36,
   "id": "b20162ef",
   "metadata": {
    "ExecuteTime": {
     "end_time": "2021-11-18T18:44:11.049265Z",
     "start_time": "2021-11-18T18:44:11.045786Z"
    }
   },
   "outputs": [
    {
     "name": "stdout",
     "output_type": "stream",
     "text": [
      "nobody1\n",
      "nobody2\n",
      "nobody3\n"
     ]
    }
   ],
   "source": [
    "# for loops \n",
    "\n",
    "\n",
    "# method 2 with lists\n",
    "\n",
    "\n",
    "names = ['nobody1','nobody2','nobody3']\n",
    "\n",
    "for name in names:         ## Start, Stop, Step (3s)\n",
    "    print(name)\n",
    "    \n",
    "    "
   ]
  },
  {
   "cell_type": "code",
   "execution_count": 39,
   "id": "5baefc47",
   "metadata": {
    "ExecuteTime": {
     "end_time": "2021-11-18T18:44:52.101498Z",
     "start_time": "2021-11-18T18:44:52.096735Z"
    }
   },
   "outputs": [],
   "source": [
    "# for loops with strings\n",
    "\n",
    "words= 'social media is boring these days'\n",
    "\n",
    "# for i in words:\n",
    "#     print(i)\n",
    "    \n",
    "\n",
    "# for index in range(0, len(words),1 ):  \n",
    "#     print(index, words[index])"
   ]
  },
  {
   "cell_type": "code",
   "execution_count": 52,
   "id": "da7d595d",
   "metadata": {
    "ExecuteTime": {
     "end_time": "2021-11-18T18:53:55.625888Z",
     "start_time": "2021-11-18T18:53:55.615058Z"
    }
   },
   "outputs": [
    {
     "name": "stdout",
     "output_type": "stream",
     "text": [
      "found red in index  2\n",
      "found red in index  1\n",
      "we found red  2 times\n"
     ]
    }
   ],
   "source": [
    "# colors = ['blue', 'blue', 'red', 'black', 'grey']\n",
    "\n",
    "# # if 'red' in colors:\n",
    "# #     print(True)\n",
    "\n",
    "\n",
    "\n",
    "# for i in range(0,len(colors),1):\n",
    "    \n",
    "#     if colors[i] == 'red':\n",
    "        \n",
    "#         print('found red in index ', i)\n",
    "        \n",
    "# print('---------------\\n')\n",
    "\n",
    "\n",
    "\n",
    "\n",
    "colors = ['blue', 'red', 'red', 'black', 'grey']\n",
    "\n",
    "counter = 0\n",
    "\n",
    "for i in range(len(colors)-1,0,-1): # start, stop ,step\n",
    "    \n",
    "    if colors[i] == 'red':\n",
    "        \n",
    "        counter += 1\n",
    "#         counter = counter + 1\n",
    "        print('found red in index ', i)\n",
    "    \n",
    "print('we found red ',counter, 'times')\n",
    "\n",
    "        "
   ]
  },
  {
   "cell_type": "code",
   "execution_count": 60,
   "id": "37f54356",
   "metadata": {
    "ExecuteTime": {
     "end_time": "2021-11-18T19:01:00.592229Z",
     "start_time": "2021-11-18T19:01:00.584110Z"
    }
   },
   "outputs": [
    {
     "name": "stdout",
     "output_type": "stream",
     "text": [
      "181.8181818181818\n",
      "166.66666666666666\n",
      "666.6666666666666\n"
     ]
    }
   ],
   "source": [
    "### imagine you are working in a currency exchange shop (doviz), you are hired to design a basic\n",
    "### currency converter.\n",
    "\n",
    "\n",
    "\n",
    "def tl_to_dollars(tl):\n",
    "    \n",
    "    rate = 11\n",
    "    money = tl/ rate\n",
    "    \n",
    "    return money\n",
    "\n",
    "def tl_to_euro(tl):\n",
    "    \n",
    "    rate = 12\n",
    "    money = tl/ rate\n",
    "    return money\n",
    "\n",
    "\n",
    "def tl_to_nis(tl):\n",
    "    \n",
    "    rate = 3\n",
    "    money = tl/ rate\n",
    "    return money\n",
    "\n",
    "\n",
    "def converter(amount_in_tl, to_dollars = False, to_euro = False , to_nis = False):\n",
    "    \n",
    "    if to_dollars is True:   ## you also can write as, if to_dollars == True:\n",
    "        \n",
    "        money = tl_to_dollars(amount_in_tl)\n",
    "        print(money)\n",
    "        \n",
    "    if to_euro is True: \n",
    "        \n",
    "        money = tl_to_euro(amount_in_tl)\n",
    "        print(money)\n",
    "        \n",
    "    if to_nis is True:\n",
    "        \n",
    "        money = tl_to_nis(amount_in_tl)\n",
    "        print(money)\n",
    "    \n",
    "    else:\n",
    "        \n",
    "        print('please choose a currency')\n",
    "        \n",
    "\n",
    "converter(2000, to_dollars = True,  to_euro = True, to_nis = True)\n",
    "\n"
   ]
  },
  {
   "cell_type": "code",
   "execution_count": 79,
   "id": "8bdacf2f",
   "metadata": {
    "ExecuteTime": {
     "end_time": "2021-11-18T19:21:41.898305Z",
     "start_time": "2021-11-18T19:21:41.889071Z"
    }
   },
   "outputs": [
    {
     "name": "stdout",
     "output_type": "stream",
     "text": [
      "match\n",
      "['taj', 'saleh', 25, 34, 12345]\n"
     ]
    }
   ],
   "source": [
    "# imagine you are working in the FBI and are hired to design a filtering systems for suspects\n",
    "## you have a database of all people and want to filter them based on information you got from someone\n",
    "# design such a system with your current knowledge in python\n",
    "\n",
    "# data contains :\n",
    "# first name, last name, age, city code, id number\n",
    "\n",
    "\n",
    "# print(sample[0][1])\n",
    "\n",
    "\n",
    "people_database = [['taj','saleh',25, 34, 12345], ['ahmet2', 'yasin2',20, 13, 54332],\n",
    "                   ['ahmet', 'yasin',20, 13, 54321], ['enes','sari',25, 35, 12390]\n",
    "                  ]\n",
    "\n",
    "search_keyword1 = '34'\n",
    "search_keyword2 = '123**'\n",
    "search_keyword2 = search_keyword2[0:3]\n",
    "\n",
    "\n",
    "# for loops\n",
    "# if statements\n",
    "\n",
    "# write your code below:\n",
    "\n",
    "for i in people_database:\n",
    "    \n",
    "    if i[3] == int(search_keyword1) and str(i[4])[0:3] == search_keyword2 :\n",
    "        \n",
    "#         if str(i[4])[0:3] == search_keyword2:\n",
    "            \n",
    "        print('match')\n",
    "        print(i)\n",
    "\n"
   ]
  },
  {
   "cell_type": "code",
   "execution_count": null,
   "id": "99031db7",
   "metadata": {},
   "outputs": [],
   "source": []
  },
  {
   "cell_type": "code",
   "execution_count": null,
   "id": "3042fb22",
   "metadata": {},
   "outputs": [],
   "source": []
  },
  {
   "cell_type": "code",
   "execution_count": null,
   "id": "59e52ae0",
   "metadata": {},
   "outputs": [],
   "source": []
  },
  {
   "cell_type": "code",
   "execution_count": null,
   "id": "d01654b7",
   "metadata": {},
   "outputs": [],
   "source": []
  }
 ],
 "metadata": {
  "hide_input": false,
  "kernelspec": {
   "display_name": "Python 3",
   "language": "python",
   "name": "python3"
  },
  "language_info": {
   "codemirror_mode": {
    "name": "ipython",
    "version": 3
   },
   "file_extension": ".py",
   "mimetype": "text/x-python",
   "name": "python",
   "nbconvert_exporter": "python",
   "pygments_lexer": "ipython3",
   "version": "3.6.9"
  },
  "toc": {
   "base_numbering": 1,
   "nav_menu": {},
   "number_sections": true,
   "sideBar": true,
   "skip_h1_title": false,
   "title_cell": "Table of Contents",
   "title_sidebar": "Contents",
   "toc_cell": false,
   "toc_position": {},
   "toc_section_display": true,
   "toc_window_display": false
  }
 },
 "nbformat": 4,
 "nbformat_minor": 5
}
